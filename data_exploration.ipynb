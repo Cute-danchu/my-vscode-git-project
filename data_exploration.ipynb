{
 "cells": [
  {
   "cell_type": "code",
   "execution_count": null,
   "id": "b7d8a9c4",
   "metadata": {},
   "outputs": [],
   "source": [
    "# 수정1\n",
    "# 수정2\n",
    "# 데이터 탐색 및 전처리\n",
    "import pandas as pd\n",
    "\n",
    "data = {'col1': [1, 2], 'col2': [3, 4]}\n",
    "df = pd.DataFrame(data)\n",
    "print(df.head())"
   ]
  }
 ],
 "metadata": {
  "kernelspec": {
   "display_name": "base",
   "language": "python",
   "name": "python3"
  },
  "language_info": {
   "name": "python",
   "version": "3.12.7"
  }
 },
 "nbformat": 4,
 "nbformat_minor": 5
}
